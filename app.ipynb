{
 "cells": [
  {
   "metadata": {},
   "cell_type": "markdown",
   "source": "# Importing Neccessary Libraries"
  },
  {
   "metadata": {
    "id": "ptx3OFDpsTsz",
    "trusted": true,
    "ExecuteTime": {
     "end_time": "2024-07-17T12:44:53.592081Z",
     "start_time": "2024-07-17T12:44:53.554371Z"
    }
   },
   "cell_type": "code",
   "source": [
    "import keras\n",
    "from keras import Input\n",
    "import tensorflow as tf\n",
    "from tensorflow.keras import Sequential\n",
    "from tensorflow.keras.layers import Conv2D,MaxPool2D,Dense,Flatten,BatchNormalization,Dropout\n",
    "from tensorflow.keras.optimizers import Adam\n",
    "from tensorflow.keras.preprocessing import image"
   ],
   "outputs": [],
   "execution_count": 63
  },
  {
   "metadata": {
    "id": "dw_QhGxftEN0",
    "trusted": true,
    "ExecuteTime": {
     "end_time": "2024-07-17T12:44:53.639195Z",
     "start_time": "2024-07-17T12:44:53.631100Z"
    }
   },
   "cell_type": "code",
   "source": "import numpy as np\nimport pandas as pd\nimport matplotlib.pyplot as plt",
   "outputs": [],
   "execution_count": 64
  },
  {
   "metadata": {
    "id": "dYKU9llftPit",
    "trusted": true,
    "ExecuteTime": {
     "end_time": "2024-07-17T12:44:53.660693Z",
     "start_time": "2024-07-17T12:44:53.651203Z"
    }
   },
   "cell_type": "code",
   "source": "from sklearn.model_selection import train_test_split\nfrom tqdm import tqdm",
   "outputs": [],
   "execution_count": 65
  },
  {
   "metadata": {},
   "cell_type": "markdown",
   "source": "# Reading the Dataset"
  },
  {
   "metadata": {
    "id": "ZQGbkFZvuwDK",
    "trusted": true,
    "ExecuteTime": {
     "end_time": "2024-07-17T12:44:53.764577Z",
     "start_time": "2024-07-17T12:44:53.661698Z"
    }
   },
   "cell_type": "code",
   "source": "df = pd.read_csv('./train.csv')",
   "outputs": [],
   "execution_count": 66
  },
  {
   "metadata": {
    "trusted": true,
    "ExecuteTime": {
     "end_time": "2024-07-17T12:44:53.771408Z",
     "start_time": "2024-07-17T12:44:53.766586Z"
    }
   },
   "cell_type": "code",
   "source": [
    "# Taking 30 percentage of the dataset for this project as using whole dataset crashes the memory threshold of kaggle kernels\n",
    "#df = df.head(2300) removed as we have more kernels"
   ],
   "outputs": [],
   "execution_count": 67
  },
  {
   "metadata": {
    "id": "Vnd8IQNHu6Pt",
    "outputId": "70cef3fa-a3c1-42b2-9e08-b0f0f20662ae",
    "executionInfo": {
     "status": "ok",
     "timestamp": 1579525193086,
     "user_tz": -330,
     "elapsed": 83822,
     "user": {
      "displayName": "Krutarth Darji",
      "photoUrl": "https://lh6.googleusercontent.com/-t7IqSC7tKDY/AAAAAAAAAAI/AAAAAAAAhPo/INNzCzvCptg/s64/photo.jpg",
      "userId": "04862212736858688671"
     }
    },
    "trusted": true,
    "ExecuteTime": {
     "end_time": "2024-07-17T12:44:53.817271Z",
     "start_time": "2024-07-17T12:44:53.772415Z"
    }
   },
   "cell_type": "code",
   "source": "df.head()",
   "outputs": [
    {
     "data": {
      "text/plain": [
       "          Id                                Genre  Action  Adventure  \\\n",
       "0  tt0086425                  ['Comedy', 'Drama']       0          0   \n",
       "1  tt0085549        ['Drama', 'Romance', 'Music']       0          0   \n",
       "2  tt0086465                           ['Comedy']       0          0   \n",
       "3  tt0086567               ['Sci-Fi', 'Thriller']       0          0   \n",
       "4  tt0086034  ['Action', 'Adventure', 'Thriller']       1          1   \n",
       "\n",
       "   Animation  Biography  Comedy  Crime  Documentary  Drama  ...  N/A  News  \\\n",
       "0          0          0       1      0            0      1  ...    0     0   \n",
       "1          0          0       0      0            0      1  ...    0     0   \n",
       "2          0          0       1      0            0      0  ...    0     0   \n",
       "3          0          0       0      0            0      0  ...    0     0   \n",
       "4          0          0       0      0            0      0  ...    0     0   \n",
       "\n",
       "   Reality-TV  Romance  Sci-Fi  Short  Sport  Thriller  War  Western  \n",
       "0           0        0       0      0      0         0    0        0  \n",
       "1           0        1       0      0      0         0    0        0  \n",
       "2           0        0       0      0      0         0    0        0  \n",
       "3           0        0       1      0      0         1    0        0  \n",
       "4           0        0       0      0      0         1    0        0  \n",
       "\n",
       "[5 rows x 27 columns]"
      ],
      "text/html": [
       "<div>\n",
       "<style scoped>\n",
       "    .dataframe tbody tr th:only-of-type {\n",
       "        vertical-align: middle;\n",
       "    }\n",
       "\n",
       "    .dataframe tbody tr th {\n",
       "        vertical-align: top;\n",
       "    }\n",
       "\n",
       "    .dataframe thead th {\n",
       "        text-align: right;\n",
       "    }\n",
       "</style>\n",
       "<table border=\"1\" class=\"dataframe\">\n",
       "  <thead>\n",
       "    <tr style=\"text-align: right;\">\n",
       "      <th></th>\n",
       "      <th>Id</th>\n",
       "      <th>Genre</th>\n",
       "      <th>Action</th>\n",
       "      <th>Adventure</th>\n",
       "      <th>Animation</th>\n",
       "      <th>Biography</th>\n",
       "      <th>Comedy</th>\n",
       "      <th>Crime</th>\n",
       "      <th>Documentary</th>\n",
       "      <th>Drama</th>\n",
       "      <th>...</th>\n",
       "      <th>N/A</th>\n",
       "      <th>News</th>\n",
       "      <th>Reality-TV</th>\n",
       "      <th>Romance</th>\n",
       "      <th>Sci-Fi</th>\n",
       "      <th>Short</th>\n",
       "      <th>Sport</th>\n",
       "      <th>Thriller</th>\n",
       "      <th>War</th>\n",
       "      <th>Western</th>\n",
       "    </tr>\n",
       "  </thead>\n",
       "  <tbody>\n",
       "    <tr>\n",
       "      <th>0</th>\n",
       "      <td>tt0086425</td>\n",
       "      <td>['Comedy', 'Drama']</td>\n",
       "      <td>0</td>\n",
       "      <td>0</td>\n",
       "      <td>0</td>\n",
       "      <td>0</td>\n",
       "      <td>1</td>\n",
       "      <td>0</td>\n",
       "      <td>0</td>\n",
       "      <td>1</td>\n",
       "      <td>...</td>\n",
       "      <td>0</td>\n",
       "      <td>0</td>\n",
       "      <td>0</td>\n",
       "      <td>0</td>\n",
       "      <td>0</td>\n",
       "      <td>0</td>\n",
       "      <td>0</td>\n",
       "      <td>0</td>\n",
       "      <td>0</td>\n",
       "      <td>0</td>\n",
       "    </tr>\n",
       "    <tr>\n",
       "      <th>1</th>\n",
       "      <td>tt0085549</td>\n",
       "      <td>['Drama', 'Romance', 'Music']</td>\n",
       "      <td>0</td>\n",
       "      <td>0</td>\n",
       "      <td>0</td>\n",
       "      <td>0</td>\n",
       "      <td>0</td>\n",
       "      <td>0</td>\n",
       "      <td>0</td>\n",
       "      <td>1</td>\n",
       "      <td>...</td>\n",
       "      <td>0</td>\n",
       "      <td>0</td>\n",
       "      <td>0</td>\n",
       "      <td>1</td>\n",
       "      <td>0</td>\n",
       "      <td>0</td>\n",
       "      <td>0</td>\n",
       "      <td>0</td>\n",
       "      <td>0</td>\n",
       "      <td>0</td>\n",
       "    </tr>\n",
       "    <tr>\n",
       "      <th>2</th>\n",
       "      <td>tt0086465</td>\n",
       "      <td>['Comedy']</td>\n",
       "      <td>0</td>\n",
       "      <td>0</td>\n",
       "      <td>0</td>\n",
       "      <td>0</td>\n",
       "      <td>1</td>\n",
       "      <td>0</td>\n",
       "      <td>0</td>\n",
       "      <td>0</td>\n",
       "      <td>...</td>\n",
       "      <td>0</td>\n",
       "      <td>0</td>\n",
       "      <td>0</td>\n",
       "      <td>0</td>\n",
       "      <td>0</td>\n",
       "      <td>0</td>\n",
       "      <td>0</td>\n",
       "      <td>0</td>\n",
       "      <td>0</td>\n",
       "      <td>0</td>\n",
       "    </tr>\n",
       "    <tr>\n",
       "      <th>3</th>\n",
       "      <td>tt0086567</td>\n",
       "      <td>['Sci-Fi', 'Thriller']</td>\n",
       "      <td>0</td>\n",
       "      <td>0</td>\n",
       "      <td>0</td>\n",
       "      <td>0</td>\n",
       "      <td>0</td>\n",
       "      <td>0</td>\n",
       "      <td>0</td>\n",
       "      <td>0</td>\n",
       "      <td>...</td>\n",
       "      <td>0</td>\n",
       "      <td>0</td>\n",
       "      <td>0</td>\n",
       "      <td>0</td>\n",
       "      <td>1</td>\n",
       "      <td>0</td>\n",
       "      <td>0</td>\n",
       "      <td>1</td>\n",
       "      <td>0</td>\n",
       "      <td>0</td>\n",
       "    </tr>\n",
       "    <tr>\n",
       "      <th>4</th>\n",
       "      <td>tt0086034</td>\n",
       "      <td>['Action', 'Adventure', 'Thriller']</td>\n",
       "      <td>1</td>\n",
       "      <td>1</td>\n",
       "      <td>0</td>\n",
       "      <td>0</td>\n",
       "      <td>0</td>\n",
       "      <td>0</td>\n",
       "      <td>0</td>\n",
       "      <td>0</td>\n",
       "      <td>...</td>\n",
       "      <td>0</td>\n",
       "      <td>0</td>\n",
       "      <td>0</td>\n",
       "      <td>0</td>\n",
       "      <td>0</td>\n",
       "      <td>0</td>\n",
       "      <td>0</td>\n",
       "      <td>1</td>\n",
       "      <td>0</td>\n",
       "      <td>0</td>\n",
       "    </tr>\n",
       "  </tbody>\n",
       "</table>\n",
       "<p>5 rows × 27 columns</p>\n",
       "</div>"
      ]
     },
     "execution_count": 68,
     "metadata": {},
     "output_type": "execute_result"
    }
   ],
   "execution_count": 68
  },
  {
   "metadata": {},
   "cell_type": "markdown",
   "source": "# Converting the images into Numpy array to train the CNN"
  },
  {
   "metadata": {
    "id": "WzqMmm4Gu7Gj",
    "outputId": "837cff8c-cd8a-47af-9d24-e3b3e9b3e9a6",
    "executionInfo": {
     "status": "ok",
     "timestamp": 1579525289590,
     "user_tz": -330,
     "elapsed": 180313,
     "user": {
      "displayName": "Krutarth Darji",
      "photoUrl": "https://lh6.googleusercontent.com/-t7IqSC7tKDY/AAAAAAAAAAI/AAAAAAAAhPo/INNzCzvCptg/s64/photo.jpg",
      "userId": "04862212736858688671"
     }
    },
    "trusted": true,
    "ExecuteTime": {
     "end_time": "2024-07-17T12:45:41.199944Z",
     "start_time": "2024-07-17T12:44:53.818277Z"
    }
   },
   "cell_type": "code",
   "source": [
    "width = 350 #fixing image width\n",
    "height = 350 #fixing image height\n",
    "X = [] #this will be our numpy array\n",
    "for i in tqdm(range(df.shape[0])): #for i in elements of shape\n",
    "  path = './Images/'+df['Id'][i]+'.jpg' #defining image paths. Important: images need to match\n",
    "  img = image.load_img(path,target_size=(width,height,3)) #loading images with fixed size, depth 3pixel\n",
    "  img = image.img_to_array(img) #converting image to numpy array\n",
    "  img = img/255\n",
    "  X.append(img) #adding image array to the array of image arrays\n",
    "\n",
    "X = np.array(X) #making sure that the array is numpy"
   ],
   "outputs": [
    {
     "name": "stderr",
     "output_type": "stream",
     "text": [
      "100%|██████████| 7254/7254 [00:21<00:00, 343.65it/s]\n"
     ]
    }
   ],
   "execution_count": 69
  },
  {
   "metadata": {
    "trusted": true,
    "ExecuteTime": {
     "end_time": "2024-07-17T12:45:41.290119Z",
     "start_time": "2024-07-17T12:45:41.239951Z"
    }
   },
   "cell_type": "code",
   "source": "X.shape #getting shape of the array (number of elements, width, height, depth)",
   "outputs": [
    {
     "data": {
      "text/plain": [
       "(7254, 350, 350, 3)"
      ]
     },
     "execution_count": 70,
     "metadata": {},
     "output_type": "execute_result"
    }
   ],
   "execution_count": 70
  },
  {
   "metadata": {
    "id": "9F1Iu__BxxLi",
    "outputId": "177d1261-60c0-456e-9754-a7143f0ec6d1",
    "executionInfo": {
     "status": "ok",
     "timestamp": 1579525289594,
     "user_tz": -330,
     "elapsed": 180292,
     "user": {
      "displayName": "Krutarth Darji",
      "photoUrl": "https://lh6.googleusercontent.com/-t7IqSC7tKDY/AAAAAAAAAAI/AAAAAAAAhPo/INNzCzvCptg/s64/photo.jpg",
      "userId": "04862212736858688671"
     }
    },
    "trusted": true,
    "ExecuteTime": {
     "end_time": "2024-07-17T12:45:41.400422Z",
     "start_time": "2024-07-17T12:45:41.292128Z"
    }
   },
   "cell_type": "code",
   "source": [
    "y = df.drop(['Id','Genre'],axis=1) #removing first row from excel sheet as well as id and genre columns\n",
    "y = y.to_numpy() #converting the rest of the sheet into numpy array\n",
    "y.shape #getting the shape (number of elements, 25 elements per array)"
   ],
   "outputs": [
    {
     "data": {
      "text/plain": [
       "(7254, 25)"
      ]
     },
     "execution_count": 71,
     "metadata": {},
     "output_type": "execute_result"
    }
   ],
   "execution_count": 71
  },
  {
   "metadata": {
    "id": "vcEBnVf5x_St",
    "trusted": true,
    "ExecuteTime": {
     "end_time": "2024-07-17T12:45:59.147430Z",
     "start_time": "2024-07-17T12:45:41.402431Z"
    }
   },
   "cell_type": "code",
   "source": [
    "#x_train = independent variables to train the model\n",
    "#x_test = remaining portion not used to train, used to test the accuracy of the model\n",
    "#y_train = dependent variable which need to be predicted by the model\n",
    "#y_test = category labels used to test the accuracy between actual and predicted categories\n",
    "\n",
    "#test_size = 0.1 = 10% used for testing, 90% for training\n",
    "X_train,X_test,y_train,y_test=train_test_split(X,y,test_size=0.1)"
   ],
   "outputs": [],
   "execution_count": 72
  },
  {
   "metadata": {},
   "cell_type": "markdown",
   "source": "# Preparing the model"
  },
  {
   "metadata": {
    "id": "almDiwamzS_T",
    "trusted": true,
    "ExecuteTime": {
     "end_time": "2024-07-17T12:46:02.188725Z",
     "start_time": "2024-07-17T12:45:59.213037Z"
    }
   },
   "cell_type": "code",
   "source": [
    "model = Sequential()\n",
    "\n",
    "#creating 2D layer with 16 windows, 3x(3x3)=9x9 pixels, relu = most common one, gives kind of yes or no but not 100% yes or no, input shape = input shape of first image in pixels\n",
    "\n",
    "model.add(keras.Input(shape=X_train[0].shape))\n",
    "model.add(Conv2D(16,kernel_size=(3,3),activation='relu'))\n",
    "#model.add(Conv2D(16,kernel_size=(3,3),activation='relu', input_shape=X_train[0].shape))\n",
    "model.add(BatchNormalization())\n",
    "#pool Conv2D Layer in neural network\n",
    "model.add(MaxPool2D(2,2))\n",
    "model.add(Dropout(0.3))\n",
    "\n",
    "#add next layer\n",
    "model.add(Conv2D(32,kernel_size=(3,3),activation='relu'))\n",
    "#model.add(BatchNormalization())\n",
    "model.add(MaxPool2D(2,2))\n",
    "model.add(Dropout(0.3))\n",
    "\n",
    "#add next layer\n",
    "model.add(Conv2D(64,kernel_size=(3,3),activation='relu'))\n",
    "#model.add(BatchNormalization())\n",
    "model.add(MaxPool2D(2,2))\n",
    "model.add(Dropout(0.4))\n",
    "\n",
    "#puts everything in 1D array\n",
    "model.add(Flatten())\n",
    "\n",
    "#add 10dim layer to the model with relu activation (negative=0, positive = linear starting (0;0))\n",
    "model.add(Dense(128,activation='relu'))\n",
    "#model.add(BatchNormalization())\n",
    "model.add(Dropout(0.5))\n",
    "\n",
    "#add 25dim layer to the model with sigmoid activation f(x) = 1/(1 + e^(-x))\n",
    "model.add(Dense(25,activation='sigmoid'))"
   ],
   "outputs": [],
   "execution_count": 73
  },
  {
   "metadata": {
    "id": "T0ziT8VFzXic",
    "outputId": "1fd74132-6a84-4c61-cc93-5b8bc010f6a1",
    "executionInfo": {
     "status": "ok",
     "timestamp": 1579525312719,
     "user_tz": -330,
     "elapsed": 203386,
     "user": {
      "displayName": "Krutarth Darji",
      "photoUrl": "https://lh6.googleusercontent.com/-t7IqSC7tKDY/AAAAAAAAAAI/AAAAAAAAhPo/INNzCzvCptg/s64/photo.jpg",
      "userId": "04862212736858688671"
     }
    },
    "trusted": true,
    "ExecuteTime": {
     "end_time": "2024-07-17T12:46:02.590770Z",
     "start_time": "2024-07-17T12:46:02.197731Z"
    }
   },
   "cell_type": "code",
   "source": "model.summary()",
   "outputs": [
    {
     "data": {
      "text/plain": [
       "\u001B[1mModel: \"sequential_3\"\u001B[0m\n"
      ],
      "text/html": [
       "<pre style=\"white-space:pre;overflow-x:auto;line-height:normal;font-family:Menlo,'DejaVu Sans Mono',consolas,'Courier New',monospace\"><span style=\"font-weight: bold\">Model: \"sequential_3\"</span>\n",
       "</pre>\n"
      ]
     },
     "metadata": {},
     "output_type": "display_data"
    },
    {
     "data": {
      "text/plain": [
       "┏━━━━━━━━━━━━━━━━━━━━━━━━━━━━━━━━━┳━━━━━━━━━━━━━━━━━━━━━━━━┳━━━━━━━━━━━━━━━┓\n",
       "┃\u001B[1m \u001B[0m\u001B[1mLayer (type)                   \u001B[0m\u001B[1m \u001B[0m┃\u001B[1m \u001B[0m\u001B[1mOutput Shape          \u001B[0m\u001B[1m \u001B[0m┃\u001B[1m \u001B[0m\u001B[1m      Param #\u001B[0m\u001B[1m \u001B[0m┃\n",
       "┡━━━━━━━━━━━━━━━━━━━━━━━━━━━━━━━━━╇━━━━━━━━━━━━━━━━━━━━━━━━╇━━━━━━━━━━━━━━━┩\n",
       "│ conv2d_9 (\u001B[38;5;33mConv2D\u001B[0m)               │ (\u001B[38;5;45mNone\u001B[0m, \u001B[38;5;34m348\u001B[0m, \u001B[38;5;34m348\u001B[0m, \u001B[38;5;34m16\u001B[0m)   │           \u001B[38;5;34m448\u001B[0m │\n",
       "├─────────────────────────────────┼────────────────────────┼───────────────┤\n",
       "│ batch_normalization_3           │ (\u001B[38;5;45mNone\u001B[0m, \u001B[38;5;34m348\u001B[0m, \u001B[38;5;34m348\u001B[0m, \u001B[38;5;34m16\u001B[0m)   │            \u001B[38;5;34m64\u001B[0m │\n",
       "│ (\u001B[38;5;33mBatchNormalization\u001B[0m)            │                        │               │\n",
       "├─────────────────────────────────┼────────────────────────┼───────────────┤\n",
       "│ max_pooling2d_9 (\u001B[38;5;33mMaxPooling2D\u001B[0m)  │ (\u001B[38;5;45mNone\u001B[0m, \u001B[38;5;34m174\u001B[0m, \u001B[38;5;34m174\u001B[0m, \u001B[38;5;34m16\u001B[0m)   │             \u001B[38;5;34m0\u001B[0m │\n",
       "├─────────────────────────────────┼────────────────────────┼───────────────┤\n",
       "│ dropout_12 (\u001B[38;5;33mDropout\u001B[0m)            │ (\u001B[38;5;45mNone\u001B[0m, \u001B[38;5;34m174\u001B[0m, \u001B[38;5;34m174\u001B[0m, \u001B[38;5;34m16\u001B[0m)   │             \u001B[38;5;34m0\u001B[0m │\n",
       "├─────────────────────────────────┼────────────────────────┼───────────────┤\n",
       "│ conv2d_10 (\u001B[38;5;33mConv2D\u001B[0m)              │ (\u001B[38;5;45mNone\u001B[0m, \u001B[38;5;34m172\u001B[0m, \u001B[38;5;34m172\u001B[0m, \u001B[38;5;34m32\u001B[0m)   │         \u001B[38;5;34m4,640\u001B[0m │\n",
       "├─────────────────────────────────┼────────────────────────┼───────────────┤\n",
       "│ max_pooling2d_10 (\u001B[38;5;33mMaxPooling2D\u001B[0m) │ (\u001B[38;5;45mNone\u001B[0m, \u001B[38;5;34m86\u001B[0m, \u001B[38;5;34m86\u001B[0m, \u001B[38;5;34m32\u001B[0m)     │             \u001B[38;5;34m0\u001B[0m │\n",
       "├─────────────────────────────────┼────────────────────────┼───────────────┤\n",
       "│ dropout_13 (\u001B[38;5;33mDropout\u001B[0m)            │ (\u001B[38;5;45mNone\u001B[0m, \u001B[38;5;34m86\u001B[0m, \u001B[38;5;34m86\u001B[0m, \u001B[38;5;34m32\u001B[0m)     │             \u001B[38;5;34m0\u001B[0m │\n",
       "├─────────────────────────────────┼────────────────────────┼───────────────┤\n",
       "│ conv2d_11 (\u001B[38;5;33mConv2D\u001B[0m)              │ (\u001B[38;5;45mNone\u001B[0m, \u001B[38;5;34m84\u001B[0m, \u001B[38;5;34m84\u001B[0m, \u001B[38;5;34m64\u001B[0m)     │        \u001B[38;5;34m18,496\u001B[0m │\n",
       "├─────────────────────────────────┼────────────────────────┼───────────────┤\n",
       "│ max_pooling2d_11 (\u001B[38;5;33mMaxPooling2D\u001B[0m) │ (\u001B[38;5;45mNone\u001B[0m, \u001B[38;5;34m42\u001B[0m, \u001B[38;5;34m42\u001B[0m, \u001B[38;5;34m64\u001B[0m)     │             \u001B[38;5;34m0\u001B[0m │\n",
       "├─────────────────────────────────┼────────────────────────┼───────────────┤\n",
       "│ dropout_14 (\u001B[38;5;33mDropout\u001B[0m)            │ (\u001B[38;5;45mNone\u001B[0m, \u001B[38;5;34m42\u001B[0m, \u001B[38;5;34m42\u001B[0m, \u001B[38;5;34m64\u001B[0m)     │             \u001B[38;5;34m0\u001B[0m │\n",
       "├─────────────────────────────────┼────────────────────────┼───────────────┤\n",
       "│ flatten_3 (\u001B[38;5;33mFlatten\u001B[0m)             │ (\u001B[38;5;45mNone\u001B[0m, \u001B[38;5;34m112896\u001B[0m)         │             \u001B[38;5;34m0\u001B[0m │\n",
       "├─────────────────────────────────┼────────────────────────┼───────────────┤\n",
       "│ dense_6 (\u001B[38;5;33mDense\u001B[0m)                 │ (\u001B[38;5;45mNone\u001B[0m, \u001B[38;5;34m128\u001B[0m)            │    \u001B[38;5;34m14,450,816\u001B[0m │\n",
       "├─────────────────────────────────┼────────────────────────┼───────────────┤\n",
       "│ dropout_15 (\u001B[38;5;33mDropout\u001B[0m)            │ (\u001B[38;5;45mNone\u001B[0m, \u001B[38;5;34m128\u001B[0m)            │             \u001B[38;5;34m0\u001B[0m │\n",
       "├─────────────────────────────────┼────────────────────────┼───────────────┤\n",
       "│ dense_7 (\u001B[38;5;33mDense\u001B[0m)                 │ (\u001B[38;5;45mNone\u001B[0m, \u001B[38;5;34m25\u001B[0m)             │         \u001B[38;5;34m3,225\u001B[0m │\n",
       "└─────────────────────────────────┴────────────────────────┴───────────────┘\n"
      ],
      "text/html": [
       "<pre style=\"white-space:pre;overflow-x:auto;line-height:normal;font-family:Menlo,'DejaVu Sans Mono',consolas,'Courier New',monospace\">┏━━━━━━━━━━━━━━━━━━━━━━━━━━━━━━━━━┳━━━━━━━━━━━━━━━━━━━━━━━━┳━━━━━━━━━━━━━━━┓\n",
       "┃<span style=\"font-weight: bold\"> Layer (type)                    </span>┃<span style=\"font-weight: bold\"> Output Shape           </span>┃<span style=\"font-weight: bold\">       Param # </span>┃\n",
       "┡━━━━━━━━━━━━━━━━━━━━━━━━━━━━━━━━━╇━━━━━━━━━━━━━━━━━━━━━━━━╇━━━━━━━━━━━━━━━┩\n",
       "│ conv2d_9 (<span style=\"color: #0087ff; text-decoration-color: #0087ff\">Conv2D</span>)               │ (<span style=\"color: #00d7ff; text-decoration-color: #00d7ff\">None</span>, <span style=\"color: #00af00; text-decoration-color: #00af00\">348</span>, <span style=\"color: #00af00; text-decoration-color: #00af00\">348</span>, <span style=\"color: #00af00; text-decoration-color: #00af00\">16</span>)   │           <span style=\"color: #00af00; text-decoration-color: #00af00\">448</span> │\n",
       "├─────────────────────────────────┼────────────────────────┼───────────────┤\n",
       "│ batch_normalization_3           │ (<span style=\"color: #00d7ff; text-decoration-color: #00d7ff\">None</span>, <span style=\"color: #00af00; text-decoration-color: #00af00\">348</span>, <span style=\"color: #00af00; text-decoration-color: #00af00\">348</span>, <span style=\"color: #00af00; text-decoration-color: #00af00\">16</span>)   │            <span style=\"color: #00af00; text-decoration-color: #00af00\">64</span> │\n",
       "│ (<span style=\"color: #0087ff; text-decoration-color: #0087ff\">BatchNormalization</span>)            │                        │               │\n",
       "├─────────────────────────────────┼────────────────────────┼───────────────┤\n",
       "│ max_pooling2d_9 (<span style=\"color: #0087ff; text-decoration-color: #0087ff\">MaxPooling2D</span>)  │ (<span style=\"color: #00d7ff; text-decoration-color: #00d7ff\">None</span>, <span style=\"color: #00af00; text-decoration-color: #00af00\">174</span>, <span style=\"color: #00af00; text-decoration-color: #00af00\">174</span>, <span style=\"color: #00af00; text-decoration-color: #00af00\">16</span>)   │             <span style=\"color: #00af00; text-decoration-color: #00af00\">0</span> │\n",
       "├─────────────────────────────────┼────────────────────────┼───────────────┤\n",
       "│ dropout_12 (<span style=\"color: #0087ff; text-decoration-color: #0087ff\">Dropout</span>)            │ (<span style=\"color: #00d7ff; text-decoration-color: #00d7ff\">None</span>, <span style=\"color: #00af00; text-decoration-color: #00af00\">174</span>, <span style=\"color: #00af00; text-decoration-color: #00af00\">174</span>, <span style=\"color: #00af00; text-decoration-color: #00af00\">16</span>)   │             <span style=\"color: #00af00; text-decoration-color: #00af00\">0</span> │\n",
       "├─────────────────────────────────┼────────────────────────┼───────────────┤\n",
       "│ conv2d_10 (<span style=\"color: #0087ff; text-decoration-color: #0087ff\">Conv2D</span>)              │ (<span style=\"color: #00d7ff; text-decoration-color: #00d7ff\">None</span>, <span style=\"color: #00af00; text-decoration-color: #00af00\">172</span>, <span style=\"color: #00af00; text-decoration-color: #00af00\">172</span>, <span style=\"color: #00af00; text-decoration-color: #00af00\">32</span>)   │         <span style=\"color: #00af00; text-decoration-color: #00af00\">4,640</span> │\n",
       "├─────────────────────────────────┼────────────────────────┼───────────────┤\n",
       "│ max_pooling2d_10 (<span style=\"color: #0087ff; text-decoration-color: #0087ff\">MaxPooling2D</span>) │ (<span style=\"color: #00d7ff; text-decoration-color: #00d7ff\">None</span>, <span style=\"color: #00af00; text-decoration-color: #00af00\">86</span>, <span style=\"color: #00af00; text-decoration-color: #00af00\">86</span>, <span style=\"color: #00af00; text-decoration-color: #00af00\">32</span>)     │             <span style=\"color: #00af00; text-decoration-color: #00af00\">0</span> │\n",
       "├─────────────────────────────────┼────────────────────────┼───────────────┤\n",
       "│ dropout_13 (<span style=\"color: #0087ff; text-decoration-color: #0087ff\">Dropout</span>)            │ (<span style=\"color: #00d7ff; text-decoration-color: #00d7ff\">None</span>, <span style=\"color: #00af00; text-decoration-color: #00af00\">86</span>, <span style=\"color: #00af00; text-decoration-color: #00af00\">86</span>, <span style=\"color: #00af00; text-decoration-color: #00af00\">32</span>)     │             <span style=\"color: #00af00; text-decoration-color: #00af00\">0</span> │\n",
       "├─────────────────────────────────┼────────────────────────┼───────────────┤\n",
       "│ conv2d_11 (<span style=\"color: #0087ff; text-decoration-color: #0087ff\">Conv2D</span>)              │ (<span style=\"color: #00d7ff; text-decoration-color: #00d7ff\">None</span>, <span style=\"color: #00af00; text-decoration-color: #00af00\">84</span>, <span style=\"color: #00af00; text-decoration-color: #00af00\">84</span>, <span style=\"color: #00af00; text-decoration-color: #00af00\">64</span>)     │        <span style=\"color: #00af00; text-decoration-color: #00af00\">18,496</span> │\n",
       "├─────────────────────────────────┼────────────────────────┼───────────────┤\n",
       "│ max_pooling2d_11 (<span style=\"color: #0087ff; text-decoration-color: #0087ff\">MaxPooling2D</span>) │ (<span style=\"color: #00d7ff; text-decoration-color: #00d7ff\">None</span>, <span style=\"color: #00af00; text-decoration-color: #00af00\">42</span>, <span style=\"color: #00af00; text-decoration-color: #00af00\">42</span>, <span style=\"color: #00af00; text-decoration-color: #00af00\">64</span>)     │             <span style=\"color: #00af00; text-decoration-color: #00af00\">0</span> │\n",
       "├─────────────────────────────────┼────────────────────────┼───────────────┤\n",
       "│ dropout_14 (<span style=\"color: #0087ff; text-decoration-color: #0087ff\">Dropout</span>)            │ (<span style=\"color: #00d7ff; text-decoration-color: #00d7ff\">None</span>, <span style=\"color: #00af00; text-decoration-color: #00af00\">42</span>, <span style=\"color: #00af00; text-decoration-color: #00af00\">42</span>, <span style=\"color: #00af00; text-decoration-color: #00af00\">64</span>)     │             <span style=\"color: #00af00; text-decoration-color: #00af00\">0</span> │\n",
       "├─────────────────────────────────┼────────────────────────┼───────────────┤\n",
       "│ flatten_3 (<span style=\"color: #0087ff; text-decoration-color: #0087ff\">Flatten</span>)             │ (<span style=\"color: #00d7ff; text-decoration-color: #00d7ff\">None</span>, <span style=\"color: #00af00; text-decoration-color: #00af00\">112896</span>)         │             <span style=\"color: #00af00; text-decoration-color: #00af00\">0</span> │\n",
       "├─────────────────────────────────┼────────────────────────┼───────────────┤\n",
       "│ dense_6 (<span style=\"color: #0087ff; text-decoration-color: #0087ff\">Dense</span>)                 │ (<span style=\"color: #00d7ff; text-decoration-color: #00d7ff\">None</span>, <span style=\"color: #00af00; text-decoration-color: #00af00\">128</span>)            │    <span style=\"color: #00af00; text-decoration-color: #00af00\">14,450,816</span> │\n",
       "├─────────────────────────────────┼────────────────────────┼───────────────┤\n",
       "│ dropout_15 (<span style=\"color: #0087ff; text-decoration-color: #0087ff\">Dropout</span>)            │ (<span style=\"color: #00d7ff; text-decoration-color: #00d7ff\">None</span>, <span style=\"color: #00af00; text-decoration-color: #00af00\">128</span>)            │             <span style=\"color: #00af00; text-decoration-color: #00af00\">0</span> │\n",
       "├─────────────────────────────────┼────────────────────────┼───────────────┤\n",
       "│ dense_7 (<span style=\"color: #0087ff; text-decoration-color: #0087ff\">Dense</span>)                 │ (<span style=\"color: #00d7ff; text-decoration-color: #00d7ff\">None</span>, <span style=\"color: #00af00; text-decoration-color: #00af00\">25</span>)             │         <span style=\"color: #00af00; text-decoration-color: #00af00\">3,225</span> │\n",
       "└─────────────────────────────────┴────────────────────────┴───────────────┘\n",
       "</pre>\n"
      ]
     },
     "metadata": {},
     "output_type": "display_data"
    },
    {
     "data": {
      "text/plain": [
       "\u001B[1m Total params: \u001B[0m\u001B[38;5;34m14,477,689\u001B[0m (55.23 MB)\n"
      ],
      "text/html": [
       "<pre style=\"white-space:pre;overflow-x:auto;line-height:normal;font-family:Menlo,'DejaVu Sans Mono',consolas,'Courier New',monospace\"><span style=\"font-weight: bold\"> Total params: </span><span style=\"color: #00af00; text-decoration-color: #00af00\">14,477,689</span> (55.23 MB)\n",
       "</pre>\n"
      ]
     },
     "metadata": {},
     "output_type": "display_data"
    },
    {
     "data": {
      "text/plain": [
       "\u001B[1m Trainable params: \u001B[0m\u001B[38;5;34m14,477,657\u001B[0m (55.23 MB)\n"
      ],
      "text/html": [
       "<pre style=\"white-space:pre;overflow-x:auto;line-height:normal;font-family:Menlo,'DejaVu Sans Mono',consolas,'Courier New',monospace\"><span style=\"font-weight: bold\"> Trainable params: </span><span style=\"color: #00af00; text-decoration-color: #00af00\">14,477,657</span> (55.23 MB)\n",
       "</pre>\n"
      ]
     },
     "metadata": {},
     "output_type": "display_data"
    },
    {
     "data": {
      "text/plain": [
       "\u001B[1m Non-trainable params: \u001B[0m\u001B[38;5;34m32\u001B[0m (128.00 B)\n"
      ],
      "text/html": [
       "<pre style=\"white-space:pre;overflow-x:auto;line-height:normal;font-family:Menlo,'DejaVu Sans Mono',consolas,'Courier New',monospace\"><span style=\"font-weight: bold\"> Non-trainable params: </span><span style=\"color: #00af00; text-decoration-color: #00af00\">32</span> (128.00 B)\n",
       "</pre>\n"
      ]
     },
     "metadata": {},
     "output_type": "display_data"
    }
   ],
   "execution_count": 74
  },
  {
   "metadata": {
    "id": "KfRxMPmU0lW1",
    "trusted": true,
    "ExecuteTime": {
     "end_time": "2024-07-17T12:46:02.829853Z",
     "start_time": "2024-07-17T12:46:02.630881Z"
    }
   },
   "cell_type": "code",
   "source": "model.compile(optimizer='adam',loss='binary_crossentropy',metrics=['binary_accuracy'])",
   "outputs": [],
   "execution_count": 75
  },
  {
   "metadata": {
    "id": "KcD4VgAe0xgB",
    "outputId": "13a3c68a-d657-4ac3-8942-a377840d4cd2",
    "executionInfo": {
     "status": "ok",
     "timestamp": 1579525394894,
     "user_tz": -330,
     "elapsed": 285550,
     "user": {
      "displayName": "Krutarth Darji",
      "photoUrl": "https://lh6.googleusercontent.com/-t7IqSC7tKDY/AAAAAAAAAAI/AAAAAAAAhPo/INNzCzvCptg/s64/photo.jpg",
      "userId": "04862212736858688671"
     }
    },
    "trusted": true,
    "ExecuteTime": {
     "end_time": "2024-07-17T13:09:02.538007Z",
     "start_time": "2024-07-17T12:46:02.830860Z"
    }
   },
   "cell_type": "code",
   "source": "history = model.fit(X_train,y_train,epochs=5,validation_data=(X_test,y_test))",
   "outputs": [
    {
     "name": "stdout",
     "output_type": "stream",
     "text": [
      "Epoch 1/5\n",
      "\u001B[1m204/204\u001B[0m \u001B[32m━━━━━━━━━━━━━━━━━━━━\u001B[0m\u001B[37m\u001B[0m \u001B[1m272s\u001B[0m 1s/step - binary_accuracy: 0.8371 - loss: 0.9079 - val_binary_accuracy: 0.9094 - val_loss: 0.4131\n",
      "Epoch 2/5\n",
      "\u001B[1m204/204\u001B[0m \u001B[32m━━━━━━━━━━━━━━━━━━━━\u001B[0m\u001B[37m\u001B[0m \u001B[1m234s\u001B[0m 1s/step - binary_accuracy: 0.8993 - loss: 0.2844 - val_binary_accuracy: 0.9070 - val_loss: 0.3246\n",
      "Epoch 3/5\n",
      "\u001B[1m204/204\u001B[0m \u001B[32m━━━━━━━━━━━━━━━━━━━━\u001B[0m\u001B[37m\u001B[0m \u001B[1m226s\u001B[0m 1s/step - binary_accuracy: 0.9048 - loss: 0.2668 - val_binary_accuracy: 0.9106 - val_loss: 0.3106\n",
      "Epoch 4/5\n",
      "\u001B[1m204/204\u001B[0m \u001B[32m━━━━━━━━━━━━━━━━━━━━\u001B[0m\u001B[37m\u001B[0m \u001B[1m233s\u001B[0m 1s/step - binary_accuracy: 0.9090 - loss: 0.2553 - val_binary_accuracy: 0.9126 - val_loss: 0.3043\n",
      "Epoch 5/5\n",
      "\u001B[1m204/204\u001B[0m \u001B[32m━━━━━━━━━━━━━━━━━━━━\u001B[0m\u001B[37m\u001B[0m \u001B[1m345s\u001B[0m 2s/step - binary_accuracy: 0.9119 - loss: 0.2509 - val_binary_accuracy: 0.9112 - val_loss: 0.2769\n"
     ]
    }
   ],
   "execution_count": 76
  },
  {
   "metadata": {
    "id": "Uki_4QlT09Hx",
    "trusted": true,
    "ExecuteTime": {
     "end_time": "2024-07-17T13:09:02.582316Z",
     "start_time": "2024-07-17T13:09:02.548978Z"
    }
   },
   "cell_type": "code",
   "source": [
    "def plotLearningCurve(history,epochs):\n",
    "  #range 1 to 5\n",
    "  epochRange = range(1,epochs+1)\n",
    "  #defining axes\n",
    "  plt.plot(epochRange,history.history['binary_accuracy'])\n",
    "  plt.plot(epochRange,history.history['val_binary_accuracy'])\n",
    "  #title\n",
    "  plt.title('Model Accuracy')\n",
    "  #axe labels\n",
    "  plt.xlabel('Epoch')\n",
    "  plt.ylabel('Accuracy')\n",
    "  #legend\n",
    "  plt.legend(['Train','Validation'],loc='best')\n",
    "  plt.show()\n",
    "\n",
    "  plt.plot(epochRange,history.history['loss'])\n",
    "  plt.plot(epochRange,history.history['val_loss'])\n",
    "  plt.title('Model Loss')\n",
    "  plt.xlabel('Epoch')\n",
    "  plt.ylabel('Loss')\n",
    "  plt.legend(['Train','Validation'],loc='best')\n",
    "  plt.show()"
   ],
   "outputs": [],
   "execution_count": 77
  },
  {
   "metadata": {
    "id": "rw2kGq-z34kS",
    "outputId": "2a3867d9-7167-4c4d-f375-2688e900459d",
    "executionInfo": {
     "status": "ok",
     "timestamp": 1579525394896,
     "user_tz": -330,
     "elapsed": 285525,
     "user": {
      "displayName": "Krutarth Darji",
      "photoUrl": "https://lh6.googleusercontent.com/-t7IqSC7tKDY/AAAAAAAAAAI/AAAAAAAAhPo/INNzCzvCptg/s64/photo.jpg",
      "userId": "04862212736858688671"
     }
    },
    "trusted": true,
    "ExecuteTime": {
     "end_time": "2024-07-17T13:09:03.316980Z",
     "start_time": "2024-07-17T13:09:02.585328Z"
    }
   },
   "cell_type": "code",
   "source": "plotLearningCurve(history,5)",
   "outputs": [
    {
     "data": {
      "text/plain": [
       "<Figure size 640x480 with 1 Axes>"
      ],
      "image/png": "[encoded data removed]"
     },
     "metadata": {},
     "output_type": "display_data"
    },
    {
     "data": {
      "text/plain": [
       "<Figure size 640x480 with 1 Axes>"
      ],
      "image/png": "[encoded data removed]"
     },
     "metadata": {},
     "output_type": "display_data"
    }
   ],
   "execution_count": 78
  },
  {
   "metadata": {},
   "cell_type": "markdown",
   "source": "# Applying the trained model to Predict the Genre of the input image"
  },
  {
   "metadata": {
    "id": "ngsqISoW37h4",
    "outputId": "efe04dc8-645c-43fe-d466-3d1d838867e3",
    "executionInfo": {
     "status": "ok",
     "timestamp": 1579525492044,
     "user_tz": -330,
     "elapsed": 1680,
     "user": {
      "displayName": "Krutarth Darji",
      "photoUrl": "https://lh6.googleusercontent.com/-t7IqSC7tKDY/AAAAAAAAAAI/AAAAAAAAhPo/INNzCzvCptg/s64/photo.jpg",
      "userId": "04862212736858688671"
     }
    },
    "trusted": true,
    "ExecuteTime": {
     "end_time": "2024-07-17T13:09:04.151127Z",
     "start_time": "2024-07-17T13:09:03.318998Z"
    }
   },
   "cell_type": "code",
   "source": [
    "img = image.load_img('./star.jpg',target_size=(width,height,3))\n",
    "img2 = image.load_img('./star2.jpeg',target_size=(width,height,3))\n",
    "img3 = image.load_img('./star3.jpeg',target_size=(width,height,3))\n",
    "\n",
    "img_array = [img, img2, img3]\n",
    "\n",
    "classes = df.columns[2:] #getting classes column\n",
    "\n",
    "y_pred_array = []\n",
    "\n",
    "for single_image in img_array:\n",
    "  img = image.img_to_array(single_image) #add image to array\n",
    "  img = img/255.0 #deviding to have numbers between 0 and 1\n",
    "  img = img.reshape(1, width, height, 3) #resize image\n",
    "  y_pred = model.predict(img) #predict single image\n",
    "  if len(y_pred_array) == 0:\n",
    "    y_pred_array = y_pred #adding image prediction result to array, if array is empty: array = result\n",
    "  else:\n",
    "    for i in range(len(y_pred_array)):\n",
    "      y_pred_array[i] += y_pred[i] #adding prediction results to array\n",
    "   \n",
    "for i in range(len(y_pred_array)):\n",
    "  y_pred = y_pred_array[i]\n",
    "  y_pred = y_pred / float(len(img_array)) #deviding array elements by number of images\n",
    "  y_pred_array[i] = y_pred\n",
    "      \n",
    "#getting prediction result per class\n",
    "top3=np.argsort(y_pred_array[0])[:-4:-1] #getting top 3 classes\n",
    "for i in range(3): #for i = 0, 1, 2\n",
    "  print(classes[top3[i]] + \" \" + str(y_pred_array[0][top3[i]])) #print top 3 classes with prediction result"
   ],
   "outputs": [
    {
     "name": "stdout",
     "output_type": "stream",
     "text": [
      "\u001B[1m1/1\u001B[0m \u001B[32m━━━━━━━━━━━━━━━━━━━━\u001B[0m\u001B[37m\u001B[0m \u001B[1m0s\u001B[0m 226ms/step\n",
      "\u001B[1m1/1\u001B[0m \u001B[32m━━━━━━━━━━━━━━━━━━━━\u001B[0m\u001B[37m\u001B[0m \u001B[1m0s\u001B[0m 70ms/step\n",
      "\u001B[1m1/1\u001B[0m \u001B[32m━━━━━━━━━━━━━━━━━━━━\u001B[0m\u001B[37m\u001B[0m \u001B[1m0s\u001B[0m 57ms/step\n",
      "Drama 0.47916034\n",
      "Comedy 0.44429445\n",
      "Romance 0.32825318\n"
     ]
    }
   ],
   "execution_count": 79
  },
  {
   "metadata": {},
   "cell_type": "markdown",
   "source": ""
  },
  {
   "metadata": {
    "id": "sdV7y-AgDQ0u",
    "trusted": true,
    "ExecuteTime": {
     "end_time": "2024-07-17T13:09:04.157645Z",
     "start_time": "2024-07-17T13:09:04.153139Z"
    }
   },
   "cell_type": "code",
   "source": "",
   "outputs": [],
   "execution_count": 79
  }
 ],
 "metadata": {
  "kernelspec": {
   "language": "python",
   "display_name": "Python 3",
   "name": "python3"
  },
  "language_info": {
   "pygments_lexer": "ipython3",
   "nbconvert_exporter": "python",
   "version": "3.6.4",
   "file_extension": ".py",
   "codemirror_mode": {
    "name": "ipython",
    "version": 3
   },
   "name": "python",
   "mimetype": "text/x-python"
  }
 },
 "nbformat": 4,
 "nbformat_minor": 4
}
